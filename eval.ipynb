{
 "cells": [
  {
   "cell_type": "code",
   "execution_count": null,
   "metadata": {
    "execution": {
     "iopub.execute_input": "2024-03-20T22:08:13.884364Z",
     "iopub.status.busy": "2024-03-20T22:08:13.883744Z",
     "iopub.status.idle": "2024-03-20T22:08:14.705354Z",
     "shell.execute_reply": "2024-03-20T22:08:14.704443Z",
     "shell.execute_reply.started": "2024-03-20T22:08:13.884338Z"
    }
   },
   "outputs": [],
   "source": [
    "import numpy as np\n",
    "import cv2\n",
    "import matplotlib.pyplot as plt\n",
    "from skimage.draw import disk, circle_perimeter, rectangle_perimeter\n",
    "from scipy.ndimage import gaussian_filter\n",
    "import csv\n",
    "import torch\n",
    "import torchvision\n",
    "from torchvision import transforms as T\n",
    "from torchvision.models.detection.rpn import AnchorGenerator\n",
    "from torchvision.models.detection.faster_rcnn import FastRCNNPredictor\n",
    "from torchvision.models.detection.mask_rcnn import MaskRCNNPredictor\n",
    "from PIL import Image\n",
    "\n",
    "#LOAD EXISTING MODEL\n",
    "device = torch.device(\"cuda\" if torch.cuda.is_available() else \"cpu\")\n",
    "model = torchvision.models.detection.maskrcnn_resnet50_fpn(pretrained=False)\n",
    "anchor_generator = AnchorGenerator(sizes=((16,), (32,), (64,), (128,), (256,)), aspect_ratios=((0.5, 1.0, 2.0),) * 5)\n",
    "model.rpn.anchor_generator = anchor_generator\n",
    "in_features = model.roi_heads.box_predictor.cls_score.in_features\n",
    "model.roi_heads.box_predictor = FastRCNNPredictor(in_features, 5)\n",
    "in_features_mask = model.roi_heads.mask_predictor.conv5_mask.in_channels\n",
    "hidden_layer = 256\n",
    "model.roi_heads.mask_predictor = MaskRCNNPredictor(in_features_mask, hidden_layer, 5)\n",
    "model.rpn.post_nms_top_n_train = 2000\n",
    "model.rpn.post_nms_top_n_test = 2500\n",
    "model.roi_heads.detections_per_img = 2000\n",
    "\n",
    "model_path = 'MODELPATH' #path to the model\n",
    "saved_state_dict = torch.load(model_path)\n",
    "model.load_state_dict(saved_state_dict)\n",
    "model = model.to(device)"
   ]
  },
  {
   "cell_type": "code",
   "execution_count": null,
   "metadata": {
    "execution": {
     "iopub.execute_input": "2024-03-12T15:54:18.151949Z",
     "iopub.status.busy": "2024-03-12T15:54:18.151573Z",
     "iopub.status.idle": "2024-03-12T15:54:31.446191Z",
     "shell.execute_reply": "2024-03-12T15:54:31.444976Z",
     "shell.execute_reply.started": "2024-03-12T15:54:18.151921Z"
    }
   },
   "outputs": [],
   "source": [
    "#IMAGE EVAL\n",
    "torch.cuda.empty_cache()\n",
    "\n",
    "img_path = \"example/BF/0.png\"\n",
    "img = Image.open(img_path).convert('RGB')\n",
    "full_img_array = np.array(img)\n",
    "transform = T.ToTensor()\n",
    "\n",
    "# Define color mapping for labels\n",
    "label_color_map = {\n",
    "    1: (192, 0, 0),  # Red\n",
    "    2: (0, 0, 0),  # Green\n",
    "    3: (255, 255, 0),  #yellow\n",
    "    4: (0, 0, 255),  # blue\n",
    "}\n",
    "\n",
    "def add_box_outlines(image, boxes, labels):\n",
    "    for box, label in zip(boxes, labels):\n",
    "        color = label_color_map.get(label.item(), (255, 255, 255))  # Default to white if label not found\n",
    "        box = box.cpu().numpy().astype(np.int32)\n",
    "        rr, cc = rectangle_perimeter((box[1], box[0]), end=(box[3], box[2]), shape=image.shape)\n",
    "        image[rr, cc] = color\n",
    "    return image\n",
    "\n",
    "def add_masks(image, masks, labels, alpha=0.5):\n",
    "    for mask, label in zip(masks, labels):\n",
    "        color = label_color_map.get(label.item(), (255, 255, 255))\n",
    "        mask_np = mask.cpu().numpy().squeeze()\n",
    "        for i in range(3):\n",
    "            image[:, :, i] = np.where(mask_np > 0.5, image[:, :, i] * (1 - alpha) + color[i] * alpha, image[:, :, i])\n",
    "    return image\n",
    "\n",
    "img_tensor = transform(img).to(device)\n",
    "\n",
    "model.eval()\n",
    "with torch.no_grad():\n",
    "    pred = model([img_tensor])\n",
    "\n",
    "confidence_threshold = 0.3\n",
    "high_conf_indices = [i for i, score in enumerate(pred[0]['scores']) if score > confidence_threshold]\n",
    "high_conf_masks = pred[0]['masks'][high_conf_indices]\n",
    "high_conf_boxes = pred[0]['boxes'][high_conf_indices]\n",
    "high_conf_labels = pred[0]['labels'][high_conf_indices]\n",
    "\n",
    "# Apply masks and boxes to the image\n",
    "img_with_masks = add_masks(np.copy(full_img_array), high_conf_masks, high_conf_labels)\n",
    "img_with_boxes_and_masks = add_box_outlines(img_with_masks, high_conf_boxes, high_conf_labels)\n",
    "combined_image = np.concatenate([full_img_array, img_with_boxes_and_masks], axis=1)\n",
    "\n",
    "# Display the final image\n",
    "plt.figure(figsize=(20, 10))\n",
    "plt.imshow(combined_image)\n",
    "plt.axis('off')\n",
    "plt.show()"
   ]
  },
  {
   "cell_type": "code",
   "execution_count": null,
   "metadata": {
    "execution": {
     "iopub.status.busy": "2024-02-27T21:12:52.411620Z",
     "iopub.status.idle": "2024-02-27T21:12:52.412263Z",
     "shell.execute_reply": "2024-02-27T21:12:52.412099Z",
     "shell.execute_reply.started": "2024-02-27T21:12:52.412078Z"
    }
   },
   "outputs": [],
   "source": [
    "#Calculate the radii of the GUVs\n",
    "guv_radii = []\n",
    "\n",
    "for box, label in zip(high_conf_boxes_list, high_conf_labels_list):\n",
    "    if label == 1:  # Only consider GUVs\n",
    "        # Calculate the width and height of the bounding box\n",
    "        width = box[2] - box[0]\n",
    "        height = box[3] - box[1]\n",
    "        \n",
    "        # Calculate the average radius (assuming the GUV is approximately circular)\n",
    "        radius = 0.5 * (width + height) / 2\n",
    "        guv_radii.append(radius.cpu().numpy())\n",
    "\n",
    "# Plotting the distribution of GUV radii\n",
    "plt.figure(figsize=(10, 6))\n",
    "plt.hist(guv_radii, bins=60, color='red')\n",
    "plt.title('GUV Radii Distribution')\n",
    "plt.xlabel('Radius (pixels)')\n",
    "plt.ylabel('Frequency')\n",
    "plt.grid(True)\n",
    "plt.xlim(0,45)\n",
    "plt.ylim(0,70)\n",
    "plt.show()"
   ]
  }
 ],
 "metadata": {
  "accelerator": "GPU",
  "colab": {
   "gpuType": "T4",
   "provenance": []
  },
  "kernelspec": {
   "display_name": "Python 3 (ipykernel)",
   "language": "python",
   "name": "python3"
  },
  "language_info": {
   "codemirror_mode": {
    "name": "ipython",
    "version": 3
   },
   "file_extension": ".py",
   "mimetype": "text/x-python",
   "name": "python",
   "nbconvert_exporter": "python",
   "pygments_lexer": "ipython3",
   "version": "3.11.5"
  }
 },
 "nbformat": 4,
 "nbformat_minor": 4
}
